{
  "nbformat": 4,
  "nbformat_minor": 0,
  "metadata": {
    "colab": {
      "name": "Perceptron_pytorch.ipynb",
      "version": "0.3.2",
      "provenance": [],
      "collapsed_sections": [],
      "include_colab_link": true
    },
    "kernelspec": {
      "name": "python3",
      "display_name": "Python 3"
    },
    "accelerator": "GPU"
  },
  "cells": [
    {
      "cell_type": "markdown",
      "metadata": {
        "id": "view-in-github",
        "colab_type": "text"
      },
      "source": [
        "<a href=\"https://colab.research.google.com/github/aditya00kumar/data-science-with-python/blob/master/Perceptron_pytorch.ipynb\" target=\"_parent\"><img src=\"https://colab.research.google.com/assets/colab-badge.svg\" alt=\"Open In Colab\"/></a>"
      ]
    },
    {
      "cell_type": "code",
      "metadata": {
        "id": "kGepMx_0sq3b",
        "colab_type": "code",
        "colab": {}
      },
      "source": [
        "import torch\n",
        "import numpy as np\n",
        "import matplotlib.pyplot as plt\n",
        "import torch.nn as nn\n",
        "from sklearn import datasets"
      ],
      "execution_count": 0,
      "outputs": []
    },
    {
      "cell_type": "markdown",
      "metadata": {
        "id": "u8WpZ9YBv9tc",
        "colab_type": "text"
      },
      "source": [
        "**Create dataset**"
      ]
    },
    {
      "cell_type": "code",
      "metadata": {
        "id": "2FaDTA6OwSXf",
        "colab_type": "code",
        "colab": {
          "base_uri": "https://localhost:8080/",
          "height": 35
        },
        "outputId": "29795540-7176-4539-b276-e02320823f21"
      },
      "source": [
        "n_points = 100\n",
        "centers = [[-0.5,0.5], [0.5,-0.5]]\n",
        "X,y = datasets.make_blobs(n_samples=n_points, random_state=123, centers=centers, cluster_std=0.4)\n",
        "x_data = torch.tensor(X)\n",
        "y_data = torch.tensor(y.reshape(100,1))\n",
        "print(y.shape)"
      ],
      "execution_count": 89,
      "outputs": [
        {
          "output_type": "stream",
          "text": [
            "(100,)\n"
          ],
          "name": "stdout"
        }
      ]
    },
    {
      "cell_type": "code",
      "metadata": {
        "colab_type": "code",
        "id": "WLtNcWII4zZs",
        "colab": {}
      },
      "source": [
        "def plot_scatter():\n",
        "  plt.scatter(X[y==0, 0], X[y==0,1])\n",
        "  plt.scatter(X[y==1, 0], X[y==1,1])"
      ],
      "execution_count": 0,
      "outputs": []
    },
    {
      "cell_type": "markdown",
      "metadata": {
        "id": "JiBDs_QUx3o9",
        "colab_type": "text"
      },
      "source": [
        "**Plot scatter data**"
      ]
    },
    {
      "cell_type": "code",
      "metadata": {
        "colab_type": "code",
        "id": "ENjT7Uaj40iN",
        "colab": {
          "base_uri": "https://localhost:8080/",
          "height": 269
        },
        "outputId": "729a05bf-99b3-41d1-894a-88a8106ea9d8"
      },
      "source": [
        "plot_scatter()"
      ],
      "execution_count": 91,
      "outputs": [
        {
          "output_type": "display_data",
          "data": {
            "image/png": "[encoded data removed]",
            "text/plain": [
              "<Figure size 432x288 with 1 Axes>"
            ]
          },
          "metadata": {
            "tags": []
          }
        }
      ]
    },
    {
      "cell_type": "markdown",
      "metadata": {
        "id": "-oAcWtxhb3ZY",
        "colab_type": "text"
      },
      "source": [
        "**Model**"
      ]
    },
    {
      "cell_type": "code",
      "metadata": {
        "id": "MI3GmXJtxFm9",
        "colab_type": "code",
        "colab": {}
      },
      "source": [
        "class Model(nn.Module):\n",
        "    def __init__(self, input_size, output_size):\n",
        "      super().__init__() \n",
        "      self.linear = nn.Linear(input_size, output_size)\n",
        "    def forward(self, x):\n",
        "      pred = torch.sigmoid(self.linear(x))\n",
        "      return pred\n",
        "    def predict(self, x):\n",
        "      pred = self.forward(x)\n",
        "      if pred >= 0.5:\n",
        "        return 1\n",
        "      else:\n",
        "        return 0"
      ],
      "execution_count": 0,
      "outputs": []
    },
    {
      "cell_type": "code",
      "metadata": {
        "id": "BzS_ai2js3gx",
        "colab_type": "code",
        "colab": {
          "base_uri": "https://localhost:8080/",
          "height": 72
        },
        "outputId": "312be3ed-2d4e-4e93-8664-801b415ca322"
      },
      "source": [
        "torch.manual_seed(2)\n",
        "model = Model(2, 1)\n",
        "print(list(model.parameters()))"
      ],
      "execution_count": 93,
      "outputs": [
        {
          "output_type": "stream",
          "text": [
            "[Parameter containing:\n",
            "tensor([[ 0.1622, -0.1683]], requires_grad=True), Parameter containing:\n",
            "tensor([0.1939], requires_grad=True)]\n"
          ],
          "name": "stdout"
        }
      ]
    },
    {
      "cell_type": "code",
      "metadata": {
        "id": "iN7VAC3ytFi0",
        "colab_type": "code",
        "colab": {}
      },
      "source": [
        "[w, b] = model.parameters()\n",
        "w1, w2 = w.view(2)\n",
        "def get_params():\n",
        "  return (w1.item(), w2.item(), b[0].item())"
      ],
      "execution_count": 0,
      "outputs": []
    },
    {
      "cell_type": "code",
      "metadata": {
        "id": "eZI9XHCYtpxo",
        "colab_type": "code",
        "outputId": "c61fe6d1-8325-4beb-f5a1-c1d33c5f4cc0",
        "colab": {
          "base_uri": "https://localhost:8080/",
          "height": 35
        }
      },
      "source": [
        "get_params()"
      ],
      "execution_count": 95,
      "outputs": [
        {
          "output_type": "execute_result",
          "data": {
            "text/plain": [
              "(0.16220331192016602, -0.1682732105255127, 0.19390898942947388)"
            ]
          },
          "metadata": {
            "tags": []
          },
          "execution_count": 95
        }
      ]
    },
    {
      "cell_type": "code",
      "metadata": {
        "id": "ApX34FCVuoaT",
        "colab_type": "code",
        "colab": {}
      },
      "source": [
        "def plot_fit(title):\n",
        "  plt.title = title\n",
        "  w1, w2, b1 = get_params()\n",
        "  x1 = np.array([-2.0, 2.0]) \n",
        "  x2 = (w1*x1 + b1)/(-w2)\n",
        "  plt.plot(x1, x2, 'r')\n",
        "  "
      ],
      "execution_count": 0,
      "outputs": []
    },
    {
      "cell_type": "code",
      "metadata": {
        "id": "2RDHefyIw29N",
        "colab_type": "code",
        "outputId": "28218088-29bb-4f7e-b84a-44b3286a7dfd",
        "colab": {
          "base_uri": "https://localhost:8080/",
          "height": 269
        }
      },
      "source": [
        "plot_scatter()\n",
        "plot_fit('test')"
      ],
      "execution_count": 97,
      "outputs": [
        {
          "output_type": "display_data",
          "data": {
            "image/png": "[encoded data removed]",
            "text/plain": [
              "<Figure size 432x288 with 1 Axes>"
            ]
          },
          "metadata": {
            "tags": []
          }
        }
      ]
    },
    {
      "cell_type": "code",
      "metadata": {
        "id": "oUkviLNpw6k7",
        "colab_type": "code",
        "colab": {}
      },
      "source": [
        "criterion = nn.BCELoss()\n",
        "optimizer = torch.optim.SGD(model.parameters(), lr=0.01)"
      ],
      "execution_count": 0,
      "outputs": []
    },
    {
      "cell_type": "code",
      "metadata": {
        "id": "pAUXsSBjAxWt",
        "colab_type": "code",
        "colab": {}
      },
      "source": [
        "#model = model.double()"
      ],
      "execution_count": 0,
      "outputs": []
    },
    {
      "cell_type": "code",
      "metadata": {
        "id": "a53xON3w78L8",
        "colab_type": "code",
        "outputId": "b9f8851b-48b1-4a01-f9d5-c36c67c77beb",
        "colab": {
          "base_uri": "https://localhost:8080/",
          "height": 1834
        }
      },
      "source": [
        "epochs = 100\n",
        "losses = []\n",
        "\n",
        "for i in range(epochs):\n",
        "  y_pred = model.forward(x_data.float())\n",
        "  loss = criterion(y_pred.float(), y_data.float())\n",
        "  print(\"epoch:\", i, \"loss:\", loss.item())\n",
        "  losses.append(loss.item())\n",
        "  optimizer.zero_grad()\n",
        "  loss.backward()\n",
        "  optimizer.step()"
      ],
      "execution_count": 108,
      "outputs": [
        {
          "output_type": "stream",
          "text": [
            "epoch: 0 loss: 0.25603345036506653\n",
            "epoch: 1 loss: 0.2559147775173187\n",
            "epoch: 2 loss: 0.25579628348350525\n",
            "epoch: 3 loss: 0.2556779086589813\n",
            "epoch: 4 loss: 0.2555598318576813\n",
            "epoch: 5 loss: 0.2554418444633484\n",
            "epoch: 6 loss: 0.2553239166736603\n",
            "epoch: 7 loss: 0.25520631670951843\n",
            "epoch: 8 loss: 0.25508877635002136\n",
            "epoch: 9 loss: 0.2549714148044586\n",
            "epoch: 10 loss: 0.2548542320728302\n",
            "epoch: 11 loss: 0.25473710894584656\n",
            "epoch: 12 loss: 0.25462016463279724\n",
            "epoch: 13 loss: 0.254503458738327\n",
            "epoch: 14 loss: 0.2543868124485016\n",
            "epoch: 15 loss: 0.25427037477493286\n",
            "epoch: 16 loss: 0.25415417551994324\n",
            "epoch: 17 loss: 0.2540379464626312\n",
            "epoch: 18 loss: 0.2539219856262207\n",
            "epoch: 19 loss: 0.25380611419677734\n",
            "epoch: 20 loss: 0.25369036197662354\n",
            "epoch: 21 loss: 0.25357481837272644\n",
            "epoch: 22 loss: 0.2534595727920532\n",
            "epoch: 23 loss: 0.25334423780441284\n",
            "epoch: 24 loss: 0.25322917103767395\n",
            "epoch: 25 loss: 0.253114253282547\n",
            "epoch: 26 loss: 0.25299954414367676\n",
            "epoch: 27 loss: 0.2528848648071289\n",
            "epoch: 28 loss: 0.2527703046798706\n",
            "epoch: 29 loss: 0.25265610218048096\n",
            "epoch: 30 loss: 0.25254181027412415\n",
            "epoch: 31 loss: 0.2524278163909912\n",
            "epoch: 32 loss: 0.25231391191482544\n",
            "epoch: 33 loss: 0.2522002160549164\n",
            "epoch: 34 loss: 0.2520865201950073\n",
            "epoch: 35 loss: 0.25197312235832214\n",
            "epoch: 36 loss: 0.2518598735332489\n",
            "epoch: 37 loss: 0.25174662470817566\n",
            "epoch: 38 loss: 0.2516336143016815\n",
            "epoch: 39 loss: 0.25152087211608887\n",
            "epoch: 40 loss: 0.2514081597328186\n",
            "epoch: 41 loss: 0.2512955665588379\n",
            "epoch: 42 loss: 0.2511831223964691\n",
            "epoch: 43 loss: 0.2510707974433899\n",
            "epoch: 44 loss: 0.250958651304245\n",
            "epoch: 45 loss: 0.25084665417671204\n",
            "epoch: 46 loss: 0.2507348358631134\n",
            "epoch: 47 loss: 0.2506231963634491\n",
            "epoch: 48 loss: 0.2505115866661072\n",
            "epoch: 49 loss: 0.2504000961780548\n",
            "epoch: 50 loss: 0.25028887391090393\n",
            "epoch: 51 loss: 0.2501777112483978\n",
            "epoch: 52 loss: 0.2500667870044708\n",
            "epoch: 53 loss: 0.2499559223651886\n",
            "epoch: 54 loss: 0.24984529614448547\n",
            "epoch: 55 loss: 0.24973466992378235\n",
            "epoch: 56 loss: 0.2496243119239807\n",
            "epoch: 57 loss: 0.24951396882534027\n",
            "epoch: 58 loss: 0.24940380454063416\n",
            "epoch: 59 loss: 0.24929381906986237\n",
            "epoch: 60 loss: 0.24918398261070251\n",
            "epoch: 61 loss: 0.249074324965477\n",
            "epoch: 62 loss: 0.24896465241909027\n",
            "epoch: 63 loss: 0.24885526299476624\n",
            "epoch: 64 loss: 0.24874597787857056\n",
            "epoch: 65 loss: 0.24863676726818085\n",
            "epoch: 66 loss: 0.24852778017520905\n",
            "epoch: 67 loss: 0.248418927192688\n",
            "epoch: 68 loss: 0.2483101636171341\n",
            "epoch: 69 loss: 0.24820150434970856\n",
            "epoch: 70 loss: 0.24809308350086212\n",
            "epoch: 71 loss: 0.24798470735549927\n",
            "epoch: 72 loss: 0.24787646532058716\n",
            "epoch: 73 loss: 0.24776840209960938\n",
            "epoch: 74 loss: 0.24766051769256592\n",
            "epoch: 75 loss: 0.2475527822971344\n",
            "epoch: 76 loss: 0.24744515120983124\n",
            "epoch: 77 loss: 0.24733756482601166\n",
            "epoch: 78 loss: 0.24723012745380402\n",
            "epoch: 79 loss: 0.2471228837966919\n",
            "epoch: 80 loss: 0.24701577425003052\n",
            "epoch: 81 loss: 0.24690879881381989\n",
            "epoch: 82 loss: 0.2468019276857376\n",
            "epoch: 83 loss: 0.24669525027275085\n",
            "epoch: 84 loss: 0.24658864736557007\n",
            "epoch: 85 loss: 0.2464822232723236\n",
            "epoch: 86 loss: 0.2463759034872055\n",
            "epoch: 87 loss: 0.24626971781253815\n",
            "epoch: 88 loss: 0.2461637705564499\n",
            "epoch: 89 loss: 0.24605770409107208\n",
            "epoch: 90 loss: 0.24595199525356293\n",
            "epoch: 91 loss: 0.24584631621837616\n",
            "epoch: 92 loss: 0.24574081599712372\n",
            "epoch: 93 loss: 0.24563539028167725\n",
            "epoch: 94 loss: 0.24553008377552032\n",
            "epoch: 95 loss: 0.2454250305891037\n",
            "epoch: 96 loss: 0.24532002210617065\n",
            "epoch: 97 loss: 0.24521514773368835\n",
            "epoch: 98 loss: 0.2451103925704956\n",
            "epoch: 99 loss: 0.245005801320076\n"
          ],
          "name": "stdout"
        }
      ]
    },
    {
      "cell_type": "code",
      "metadata": {
        "id": "AH2LwVHW798s",
        "colab_type": "code",
        "outputId": "b750b4ce-af8b-4fd6-dc26-be37ecefb959",
        "colab": {
          "base_uri": "https://localhost:8080/",
          "height": 283
        }
      },
      "source": [
        "plt.plot(range(epochs), losses)\n",
        "plt.ylabel('Loss')\n",
        "plt.xlabel('epoch')\n",
        "plt.grid()"
      ],
      "execution_count": 109,
      "outputs": [
        {
          "output_type": "display_data",
          "data": {
            "image/png": "[encoded data removed]",
            "text/plain": [
              "<Figure size 432x288 with 1 Axes>"
            ]
          },
          "metadata": {
            "tags": []
          }
        }
      ]
    },
    {
      "cell_type": "code",
      "metadata": {
        "id": "M-ZTJVY1_vXM",
        "colab_type": "code",
        "colab": {
          "base_uri": "https://localhost:8080/",
          "height": 269
        },
        "outputId": "a793af6b-20d4-44bd-cc5b-33470bb227c2"
      },
      "source": [
        "plot_scatter()\n",
        "plot_fit(\"Trained Model\")"
      ],
      "execution_count": 110,
      "outputs": [
        {
          "output_type": "display_data",
          "data": {
            "image/png": "[encoded data removed]",
            "text/plain": [
              "<Figure size 432x288 with 1 Axes>"
            ]
          },
          "metadata": {
            "tags": []
          }
        }
      ]
    },
    {
      "cell_type": "code",
      "metadata": {
        "id": "MfhOwQ0u_isM",
        "colab_type": "code",
        "colab": {}
      },
      "source": [
        ""
      ],
      "execution_count": 0,
      "outputs": []
    }
  ]
}