{
  "nbformat": 4,
  "nbformat_minor": 0,
  "metadata": {
    "colab": {
      "name": "pytorch_basics.ipynb",
      "version": "0.3.2",
      "provenance": [],
      "collapsed_sections": [],
      "include_colab_link": true
    },
    "kernelspec": {
      "name": "python3",
      "display_name": "Python 3"
    }
  },
  "cells": [
    {
      "cell_type": "markdown",
      "metadata": {
        "id": "view-in-github",
        "colab_type": "text"
      },
      "source": [
        "<a href=\"https://colab.research.google.com/github/aditya00kumar/data-science-with-python/blob/master/pytorch_basics.ipynb\" target=\"_parent\"><img src=\"https://colab.research.google.com/assets/colab-badge.svg\" alt=\"Open In Colab\"/></a>"
      ]
    },
    {
      "cell_type": "code",
      "metadata": {
        "id": "wyN0K_kRoNaq",
        "colab_type": "code",
        "outputId": "9b22aeaa-384a-4b68-c71b-0716a879144f",
        "colab": {
          "base_uri": "https://localhost:8080/",
          "height": 52
        }
      },
      "source": [
        "!pip3 install torch"
      ],
      "execution_count": 0,
      "outputs": [
        {
          "output_type": "stream",
          "text": [
            "Requirement already satisfied: torch in /usr/local/lib/python3.6/dist-packages (1.1.0)\n",
            "Requirement already satisfied: numpy in /usr/local/lib/python3.6/dist-packages (from torch) (1.16.3)\n"
          ],
          "name": "stdout"
        }
      ]
    },
    {
      "cell_type": "code",
      "metadata": {
        "id": "dYI6ny7SolMU",
        "colab_type": "code",
        "colab": {}
      },
      "source": [
        "import torch\n",
        "import numpy as np"
      ],
      "execution_count": 0,
      "outputs": []
    },
    {
      "cell_type": "code",
      "metadata": {
        "id": "h4fbJq5Nozd_",
        "colab_type": "code",
        "outputId": "0d9efd74-1e06-4571-bbd1-f130c3844acd",
        "colab": {
          "base_uri": "https://localhost:8080/",
          "height": 35
        }
      },
      "source": [
        "v = torch.torch.tensor([1,2,3])\n",
        "print(v)"
      ],
      "execution_count": 2,
      "outputs": [
        {
          "output_type": "stream",
          "text": [
            "tensor([1, 2, 3])\n"
          ],
          "name": "stdout"
        }
      ]
    },
    {
      "cell_type": "code",
      "metadata": {
        "id": "G8VnjGC8o4tn",
        "colab_type": "code",
        "outputId": "4566f170-0456-4a42-bfb4-af2a8a929db2",
        "colab": {
          "base_uri": "https://localhost:8080/",
          "height": 35
        }
      },
      "source": [
        "f = torch.FloatTensor([1,2,3])\n",
        "print(f)"
      ],
      "execution_count": 3,
      "outputs": [
        {
          "output_type": "stream",
          "text": [
            "tensor([1., 2., 3.])\n"
          ],
          "name": "stdout"
        }
      ]
    },
    {
      "cell_type": "code",
      "metadata": {
        "id": "KOwhKrCsphqK",
        "colab_type": "code",
        "outputId": "c1ad56e7-d0d0-48d3-c622-a064e292fb04",
        "colab": {
          "base_uri": "https://localhost:8080/",
          "height": 35
        }
      },
      "source": [
        "print(v.dtype, f.dtype)"
      ],
      "execution_count": 4,
      "outputs": [
        {
          "output_type": "stream",
          "text": [
            "torch.int64 torch.float32\n"
          ],
          "name": "stdout"
        }
      ]
    },
    {
      "cell_type": "code",
      "metadata": {
        "id": "HXCwN8oWps5C",
        "colab_type": "code",
        "outputId": "7668a86e-52ae-48c8-d718-4fbeb8dfb4fb",
        "colab": {
          "base_uri": "https://localhost:8080/",
          "height": 35
        }
      },
      "source": [
        "f.size()"
      ],
      "execution_count": 5,
      "outputs": [
        {
          "output_type": "execute_result",
          "data": {
            "text/plain": [
              "torch.Size([3])"
            ]
          },
          "metadata": {
            "tags": []
          },
          "execution_count": 5
        }
      ]
    },
    {
      "cell_type": "code",
      "metadata": {
        "id": "Y0h-ZKLDp5wC",
        "colab_type": "code",
        "outputId": "98c52b2d-be9d-439a-ec34-d2747f5d528b",
        "colab": {
          "base_uri": "https://localhost:8080/",
          "height": 72
        }
      },
      "source": [
        "v.view(3,-1)"
      ],
      "execution_count": 6,
      "outputs": [
        {
          "output_type": "execute_result",
          "data": {
            "text/plain": [
              "tensor([[1],\n",
              "        [2],\n",
              "        [3]])"
            ]
          },
          "metadata": {
            "tags": []
          },
          "execution_count": 6
        }
      ]
    },
    {
      "cell_type": "code",
      "metadata": {
        "id": "9Tffq9oPqYEd",
        "colab_type": "code",
        "outputId": "0253436e-6e3d-497c-8e20-0b300efdbe64",
        "colab": {
          "base_uri": "https://localhost:8080/",
          "height": 72
        }
      },
      "source": [
        "v.view(3,1)"
      ],
      "execution_count": 7,
      "outputs": [
        {
          "output_type": "execute_result",
          "data": {
            "text/plain": [
              "tensor([[1],\n",
              "        [2],\n",
              "        [3]])"
            ]
          },
          "metadata": {
            "tags": []
          },
          "execution_count": 7
        }
      ]
    },
    {
      "cell_type": "code",
      "metadata": {
        "id": "zckXHfJ_rCHJ",
        "colab_type": "code",
        "colab": {}
      },
      "source": [
        "arr = np.array([0,1,2,3,4])"
      ],
      "execution_count": 0,
      "outputs": []
    },
    {
      "cell_type": "code",
      "metadata": {
        "id": "dWKA2uL8r921",
        "colab_type": "code",
        "outputId": "4dd562df-2a66-43a1-baa3-25b3f1c8d03f",
        "colab": {
          "base_uri": "https://localhost:8080/",
          "height": 35
        }
      },
      "source": [
        "xx = torch.from_numpy(arr)\n",
        "xx.numpy()"
      ],
      "execution_count": 9,
      "outputs": [
        {
          "output_type": "execute_result",
          "data": {
            "text/plain": [
              "array([0, 1, 2, 3, 4])"
            ]
          },
          "metadata": {
            "tags": []
          },
          "execution_count": 9
        }
      ]
    },
    {
      "cell_type": "markdown",
      "metadata": {
        "id": "-Uj1q7Lmz241",
        "colab_type": "text"
      },
      "source": [
        "**Vector Operations**"
      ]
    },
    {
      "cell_type": "code",
      "metadata": {
        "id": "dsDjAou_z6Te",
        "colab_type": "code",
        "colab": {}
      },
      "source": [
        "a = torch.tensor([1,2,3])\n",
        "b = torch.tensor([2,3,4])"
      ],
      "execution_count": 0,
      "outputs": []
    },
    {
      "cell_type": "code",
      "metadata": {
        "id": "SwMHzesU0HB5",
        "colab_type": "code",
        "outputId": "e4ca3e7b-6b03-4c61-df91-262549d63c0e",
        "colab": {
          "base_uri": "https://localhost:8080/",
          "height": 35
        }
      },
      "source": [
        "a+b"
      ],
      "execution_count": 11,
      "outputs": [
        {
          "output_type": "execute_result",
          "data": {
            "text/plain": [
              "tensor([3, 5, 7])"
            ]
          },
          "metadata": {
            "tags": []
          },
          "execution_count": 11
        }
      ]
    },
    {
      "cell_type": "code",
      "metadata": {
        "id": "efVbbkTm0ICp",
        "colab_type": "code",
        "outputId": "b5d56837-fa11-494c-983b-bb63c691eb5d",
        "colab": {
          "base_uri": "https://localhost:8080/",
          "height": 35
        }
      },
      "source": [
        "torch.dot(a,b)"
      ],
      "execution_count": 12,
      "outputs": [
        {
          "output_type": "execute_result",
          "data": {
            "text/plain": [
              "tensor(20)"
            ]
          },
          "metadata": {
            "tags": []
          },
          "execution_count": 12
        }
      ]
    },
    {
      "cell_type": "code",
      "metadata": {
        "id": "mpaUC2Z20_sC",
        "colab_type": "code",
        "colab": {}
      },
      "source": [
        "x = torch.linspace(0, 10, 100)\n",
        "y = torch.sin(x)"
      ],
      "execution_count": 0,
      "outputs": []
    },
    {
      "cell_type": "code",
      "metadata": {
        "id": "ak0x1QKN105v",
        "colab_type": "code",
        "colab": {}
      },
      "source": [
        "import matplotlib.pyplot as plt"
      ],
      "execution_count": 0,
      "outputs": []
    },
    {
      "cell_type": "code",
      "metadata": {
        "id": "4nIfGmzL2CKf",
        "colab_type": "code",
        "outputId": "5f61b7ec-17f4-4b4d-835a-4e25dd6aacb1",
        "colab": {
          "base_uri": "https://localhost:8080/",
          "height": 287
        }
      },
      "source": [
        "plt.plot(x.numpy(), y.numpy())"
      ],
      "execution_count": 15,
      "outputs": [
        {
          "output_type": "execute_result",
          "data": {
            "text/plain": [
              "[<matplotlib.lines.Line2D at 0x7ff7008a2dd8>]"
            ]
          },
          "metadata": {
            "tags": []
          },
          "execution_count": 15
        },
        {
          "output_type": "display_data",
          "data": {
            "image/png": "[encoded data removed]",
            "text/plain": [
              "<Figure size 432x288 with 1 Axes>"
            ]
          },
          "metadata": {
            "tags": []
          }
        }
      ]
    },
    {
      "cell_type": "code",
      "metadata": {
        "id": "aGdE5r452Fuf",
        "colab_type": "code",
        "outputId": "cf9a7ada-cf50-4414-e035-95321056c1fa",
        "colab": {
          "base_uri": "https://localhost:8080/",
          "height": 35
        }
      },
      "source": [
        "one_d = torch.arange(0,9)\n",
        "one_d"
      ],
      "execution_count": 16,
      "outputs": [
        {
          "output_type": "execute_result",
          "data": {
            "text/plain": [
              "tensor([0, 1, 2, 3, 4, 5, 6, 7, 8])"
            ]
          },
          "metadata": {
            "tags": []
          },
          "execution_count": 16
        }
      ]
    },
    {
      "cell_type": "code",
      "metadata": {
        "id": "ADMcrqGM37aD",
        "colab_type": "code",
        "outputId": "89973c5d-f621-4bd5-e743-df18c8f35d8a",
        "colab": {
          "base_uri": "https://localhost:8080/",
          "height": 72
        }
      },
      "source": [
        "two_d = one_d.view(3, -1)\n",
        "two_d"
      ],
      "execution_count": 17,
      "outputs": [
        {
          "output_type": "execute_result",
          "data": {
            "text/plain": [
              "tensor([[0, 1, 2],\n",
              "        [3, 4, 5],\n",
              "        [6, 7, 8]])"
            ]
          },
          "metadata": {
            "tags": []
          },
          "execution_count": 17
        }
      ]
    },
    {
      "cell_type": "code",
      "metadata": {
        "id": "kRV_xryF4J0P",
        "colab_type": "code",
        "outputId": "35f8b0b4-6dea-4ee3-8985-00b4119b19f7",
        "colab": {
          "base_uri": "https://localhost:8080/",
          "height": 217
        }
      },
      "source": [
        "torch.arange(32).view(4,2,4)"
      ],
      "execution_count": 18,
      "outputs": [
        {
          "output_type": "execute_result",
          "data": {
            "text/plain": [
              "tensor([[[ 0,  1,  2,  3],\n",
              "         [ 4,  5,  6,  7]],\n",
              "\n",
              "        [[ 8,  9, 10, 11],\n",
              "         [12, 13, 14, 15]],\n",
              "\n",
              "        [[16, 17, 18, 19],\n",
              "         [20, 21, 22, 23]],\n",
              "\n",
              "        [[24, 25, 26, 27],\n",
              "         [28, 29, 30, 31]]])"
            ]
          },
          "metadata": {
            "tags": []
          },
          "execution_count": 18
        }
      ]
    },
    {
      "cell_type": "code",
      "metadata": {
        "id": "y6VkruRW5HEV",
        "colab_type": "code",
        "outputId": "2375f058-8317-4f9e-dd94-6cb906919ff0",
        "colab": {
          "base_uri": "https://localhost:8080/",
          "height": 53
        }
      },
      "source": [
        "a = torch.tensor([1,2,3,4,5,6]).view(2,3)\n",
        "a"
      ],
      "execution_count": 19,
      "outputs": [
        {
          "output_type": "execute_result",
          "data": {
            "text/plain": [
              "tensor([[1, 2, 3],\n",
              "        [4, 5, 6]])"
            ]
          },
          "metadata": {
            "tags": []
          },
          "execution_count": 19
        }
      ]
    },
    {
      "cell_type": "code",
      "metadata": {
        "id": "pSC1zK7i6-AT",
        "colab_type": "code",
        "outputId": "9e2ed072-6f44-4e96-e553-246ecaf6d0e3",
        "colab": {
          "base_uri": "https://localhost:8080/",
          "height": 72
        }
      },
      "source": [
        "b = torch.tensor([1,2,3,4,5,6]).view(3,2)\n",
        "b"
      ],
      "execution_count": 20,
      "outputs": [
        {
          "output_type": "execute_result",
          "data": {
            "text/plain": [
              "tensor([[1, 2],\n",
              "        [3, 4],\n",
              "        [5, 6]])"
            ]
          },
          "metadata": {
            "tags": []
          },
          "execution_count": 20
        }
      ]
    },
    {
      "cell_type": "code",
      "metadata": {
        "id": "rQxjIJE27Foy",
        "colab_type": "code",
        "outputId": "a4ef4593-f74f-45c7-ed24-4e123e3d15d4",
        "colab": {
          "base_uri": "https://localhost:8080/",
          "height": 53
        }
      },
      "source": [
        "torch.matmul(a,b)"
      ],
      "execution_count": 21,
      "outputs": [
        {
          "output_type": "execute_result",
          "data": {
            "text/plain": [
              "tensor([[22, 28],\n",
              "        [49, 64]])"
            ]
          },
          "metadata": {
            "tags": []
          },
          "execution_count": 21
        }
      ]
    },
    {
      "cell_type": "code",
      "metadata": {
        "id": "nei7mjE77Kyr",
        "colab_type": "code",
        "outputId": "cfd7c8b4-1691-4a78-fb80-33e035cc5b87",
        "colab": {
          "base_uri": "https://localhost:8080/",
          "height": 53
        }
      },
      "source": [
        "a@b"
      ],
      "execution_count": 22,
      "outputs": [
        {
          "output_type": "execute_result",
          "data": {
            "text/plain": [
              "tensor([[22, 28],\n",
              "        [49, 64]])"
            ]
          },
          "metadata": {
            "tags": []
          },
          "execution_count": 22
        }
      ]
    },
    {
      "cell_type": "markdown",
      "metadata": {
        "id": "GC1_SQGF8DmU",
        "colab_type": "text"
      },
      "source": [
        "**Gradient**"
      ]
    },
    {
      "cell_type": "code",
      "metadata": {
        "id": "NjJLRLdX8FMk",
        "colab_type": "code",
        "colab": {}
      },
      "source": [
        "x = torch.tensor(2., requires_grad=True)\n",
        "y = 9*x**4 + 2*x**3 + 3*x**2 +6*x +1"
      ],
      "execution_count": 0,
      "outputs": []
    },
    {
      "cell_type": "code",
      "metadata": {
        "id": "te880obm8qjK",
        "colab_type": "code",
        "colab": {}
      },
      "source": [
        "y.backward()"
      ],
      "execution_count": 0,
      "outputs": []
    },
    {
      "cell_type": "code",
      "metadata": {
        "id": "so2114OH82XQ",
        "colab_type": "code",
        "outputId": "8db6ddfa-bafc-4aa7-bf14-93882ef716f0",
        "colab": {
          "base_uri": "https://localhost:8080/",
          "height": 35
        }
      },
      "source": [
        "print(x.grad)"
      ],
      "execution_count": 28,
      "outputs": [
        {
          "output_type": "stream",
          "text": [
            "None\n"
          ],
          "name": "stdout"
        }
      ]
    },
    {
      "cell_type": "markdown",
      "metadata": {
        "id": "y1tCw6qU9f3D",
        "colab_type": "text"
      },
      "source": [
        "**Partial Derivative**"
      ]
    },
    {
      "cell_type": "code",
      "metadata": {
        "id": "8qDNpPnR9ixf",
        "colab_type": "code",
        "colab": {}
      },
      "source": [
        "x = torch.tensor(2., requires_grad=True)\n",
        "y = torch.tensor(1., requires_grad=True)"
      ],
      "execution_count": 0,
      "outputs": []
    },
    {
      "cell_type": "code",
      "metadata": {
        "id": "NHLaQY5S93OW",
        "colab_type": "code",
        "colab": {}
      },
      "source": [
        "z = x**2 + y**3"
      ],
      "execution_count": 0,
      "outputs": []
    },
    {
      "cell_type": "code",
      "metadata": {
        "id": "4FLiDh_p9-R4",
        "colab_type": "code",
        "colab": {}
      },
      "source": [
        "z.backward()"
      ],
      "execution_count": 0,
      "outputs": []
    },
    {
      "cell_type": "code",
      "metadata": {
        "id": "azyPILdF-BR1",
        "colab_type": "code",
        "outputId": "b9f2bc0f-4a67-43e3-a026-7a8246c249a5",
        "colab": {
          "base_uri": "https://localhost:8080/",
          "height": 35
        }
      },
      "source": [
        "x.grad, y.grad"
      ],
      "execution_count": 32,
      "outputs": [
        {
          "output_type": "execute_result",
          "data": {
            "text/plain": [
              "(tensor(4.), tensor(3.))"
            ]
          },
          "metadata": {
            "tags": []
          },
          "execution_count": 32
        }
      ]
    },
    {
      "cell_type": "markdown",
      "metadata": {
        "id": "9zFc_5fh_GoP",
        "colab_type": "text"
      },
      "source": [
        "# **Linear Class**"
      ]
    },
    {
      "cell_type": "code",
      "metadata": {
        "id": "oBCnhVcd-FLS",
        "colab_type": "code",
        "colab": {}
      },
      "source": [
        "from torch.nn import Linear\n",
        "import torch.nn as nn\n",
        "import matplotlib.pyplot as plt"
      ],
      "execution_count": 0,
      "outputs": []
    },
    {
      "cell_type": "code",
      "metadata": {
        "id": "qPNw-uoMnnOz",
        "colab_type": "code",
        "outputId": "78db91a5-32f5-48c7-eaae-36f9681ccfb7",
        "colab": {
          "base_uri": "https://localhost:8080/",
          "height": 35
        }
      },
      "source": [
        "torch.manual_seed(1)"
      ],
      "execution_count": 34,
      "outputs": [
        {
          "output_type": "execute_result",
          "data": {
            "text/plain": [
              "<torch._C.Generator at 0x7ff700f23850>"
            ]
          },
          "metadata": {
            "tags": []
          },
          "execution_count": 34
        }
      ]
    },
    {
      "cell_type": "code",
      "metadata": {
        "id": "z1CmV8dxnsyK",
        "colab_type": "code",
        "outputId": "156b352e-e4cf-412f-91ae-4b8041c9f0ca",
        "colab": {
          "base_uri": "https://localhost:8080/",
          "height": 72
        }
      },
      "source": [
        "model = Linear(in_features=1, out_features=1)\n",
        "print(model.bias, model.weight)"
      ],
      "execution_count": 35,
      "outputs": [
        {
          "output_type": "stream",
          "text": [
            "Parameter containing:\n",
            "tensor([-0.4414], requires_grad=True) Parameter containing:\n",
            "tensor([[0.5153]], requires_grad=True)\n"
          ],
          "name": "stdout"
        }
      ]
    },
    {
      "cell_type": "code",
      "metadata": {
        "id": "zEMI_SPvs6PM",
        "colab_type": "code",
        "outputId": "80af7c8c-ea11-4d2f-d444-dbdd96d7131e",
        "colab": {
          "base_uri": "https://localhost:8080/",
          "height": 53
        }
      },
      "source": [
        "x = torch.tensor([[1.0],[ 2.]])\n",
        "model(x)"
      ],
      "execution_count": 36,
      "outputs": [
        {
          "output_type": "execute_result",
          "data": {
            "text/plain": [
              "tensor([[0.0739],\n",
              "        [0.5891]], grad_fn=<AddmmBackward>)"
            ]
          },
          "metadata": {
            "tags": []
          },
          "execution_count": 36
        }
      ]
    },
    {
      "cell_type": "markdown",
      "metadata": {
        "id": "9DpjyXfpxx3W",
        "colab_type": "text"
      },
      "source": [
        "# Create dataset"
      ]
    },
    {
      "cell_type": "code",
      "metadata": {
        "id": "H_0AiJArx2zh",
        "colab_type": "code",
        "outputId": "3f3a4eb1-f13c-4619-ebb8-827195a0d14f",
        "colab": {
          "base_uri": "https://localhost:8080/",
          "height": 287
        }
      },
      "source": [
        "X = torch.rand(100, 1)*10\n",
        "y = X + torch.randn(100, 1)\n",
        "plt.plot(X.numpy(), y.numpy(), 'o')"
      ],
      "execution_count": 37,
      "outputs": [
        {
          "output_type": "execute_result",
          "data": {
            "text/plain": [
              "[<matplotlib.lines.Line2D at 0x7ff6fe04ad30>]"
            ]
          },
          "metadata": {
            "tags": []
          },
          "execution_count": 37
        },
        {
          "output_type": "display_data",
          "data": {
            "image/png": "[encoded data removed]",
            "text/plain": [
              "<Figure size 432x288 with 1 Axes>"
            ]
          },
          "metadata": {
            "tags": []
          }
        }
      ]
    },
    {
      "cell_type": "code",
      "metadata": {
        "id": "92XJ3Or1th9n",
        "colab_type": "code",
        "colab": {}
      },
      "source": [
        "class LR(nn.Module):\n",
        "  def __init__(self, input_size, output_size):\n",
        "    super().__init__()\n",
        "    self.linear = nn.Linear(input_size, output_size)\n",
        "  def forward(self, x):\n",
        "    return self.linear(x)"
      ],
      "execution_count": 0,
      "outputs": []
    },
    {
      "cell_type": "code",
      "metadata": {
        "id": "l-vv3Wddvqp7",
        "colab_type": "code",
        "colab": {}
      },
      "source": [
        "model = LR(1,1)"
      ],
      "execution_count": 0,
      "outputs": []
    },
    {
      "cell_type": "code",
      "metadata": {
        "id": "FwV6xebqvzrR",
        "colab_type": "code",
        "outputId": "86a1e9a1-bb4e-4905-e568-97a18575370e",
        "colab": {
          "base_uri": "https://localhost:8080/",
          "height": 72
        }
      },
      "source": [
        "list(model.parameters())"
      ],
      "execution_count": 40,
      "outputs": [
        {
          "output_type": "execute_result",
          "data": {
            "text/plain": [
              "[Parameter containing:\n",
              " tensor([[-0.3707]], requires_grad=True), Parameter containing:\n",
              " tensor([0.8817], requires_grad=True)]"
            ]
          },
          "metadata": {
            "tags": []
          },
          "execution_count": 40
        }
      ]
    },
    {
      "cell_type": "code",
      "metadata": {
        "id": "qObQpj-_v9yv",
        "colab_type": "code",
        "outputId": "7063f14d-d36b-4bb4-98a1-f5d45017de5b",
        "colab": {
          "base_uri": "https://localhost:8080/",
          "height": 53
        }
      },
      "source": [
        "x = torch.tensor([[2.], [3.]])\n",
        "model.forward(x)"
      ],
      "execution_count": 41,
      "outputs": [
        {
          "output_type": "execute_result",
          "data": {
            "text/plain": [
              "tensor([[ 0.1403],\n",
              "        [-0.2304]], grad_fn=<AddmmBackward>)"
            ]
          },
          "metadata": {
            "tags": []
          },
          "execution_count": 41
        }
      ]
    },
    {
      "cell_type": "code",
      "metadata": {
        "id": "zQQ6VpSswdIh",
        "colab_type": "code",
        "colab": {}
      },
      "source": [
        "criteria = nn.MSELoss()\n",
        "optimizer = torch.optim.SGD(model.parameters(), lr = 0.01)"
      ],
      "execution_count": 0,
      "outputs": []
    },
    {
      "cell_type": "code",
      "metadata": {
        "id": "YzF3vtWHnyXm",
        "colab_type": "code",
        "colab": {
          "base_uri": "https://localhost:8080/",
          "height": 1834
        },
        "outputId": "66c3c82c-43a3-45c2-f339-604b14fbd310"
      },
      "source": [
        "epoch = 100\n",
        "losses = []\n",
        "for i in range(epoch):\n",
        "  y_pred = model.forward(X)\n",
        "  loss = criteria(y_pred, y)\n",
        "  print(\"epoch:\",i, \"loss:\", loss.item())\n",
        "  losses.append(loss)\n",
        "  optimizer.zero_grad()\n",
        "  loss.backward()\n",
        "  optimizer.step()"
      ],
      "execution_count": 47,
      "outputs": [
        {
          "output_type": "stream",
          "text": [
            "epoch: 0 loss: 46.73091506958008\n",
            "epoch: 1 loss: 6.019163131713867\n",
            "epoch: 2 loss: 1.8173578977584839\n",
            "epoch: 3 loss: 1.381518840789795\n",
            "epoch: 4 loss: 1.334154486656189\n",
            "epoch: 5 loss: 1.3268814086914062\n",
            "epoch: 6 loss: 1.3237639665603638\n",
            "epoch: 7 loss: 1.321095585823059\n",
            "epoch: 8 loss: 1.3184934854507446\n",
            "epoch: 9 loss: 1.31591796875\n",
            "epoch: 10 loss: 1.3133649826049805\n",
            "epoch: 11 loss: 1.3108340501785278\n",
            "epoch: 12 loss: 1.3083244562149048\n",
            "epoch: 13 loss: 1.30583655834198\n",
            "epoch: 14 loss: 1.3033698797225952\n",
            "epoch: 15 loss: 1.3009241819381714\n",
            "epoch: 16 loss: 1.2984994649887085\n",
            "epoch: 17 loss: 1.296095371246338\n",
            "epoch: 18 loss: 1.2937119007110596\n",
            "epoch: 19 loss: 1.2913488149642944\n",
            "epoch: 20 loss: 1.2890058755874634\n",
            "epoch: 21 loss: 1.2866830825805664\n",
            "epoch: 22 loss: 1.2843799591064453\n",
            "epoch: 23 loss: 1.2820966243743896\n",
            "epoch: 24 loss: 1.2798327207565308\n",
            "epoch: 25 loss: 1.277588129043579\n",
            "epoch: 26 loss: 1.2753628492355347\n",
            "epoch: 27 loss: 1.2731565237045288\n",
            "epoch: 28 loss: 1.270969033241272\n",
            "epoch: 29 loss: 1.2688002586364746\n",
            "epoch: 30 loss: 1.2666499614715576\n",
            "epoch: 31 loss: 1.2645182609558105\n",
            "epoch: 32 loss: 1.262404441833496\n",
            "epoch: 33 loss: 1.260308861732483\n",
            "epoch: 34 loss: 1.2582311630249023\n",
            "epoch: 35 loss: 1.2561713457107544\n",
            "epoch: 36 loss: 1.2541289329528809\n",
            "epoch: 37 loss: 1.2521040439605713\n",
            "epoch: 38 loss: 1.2500965595245361\n",
            "epoch: 39 loss: 1.2481061220169067\n",
            "epoch: 40 loss: 1.2461326122283936\n",
            "epoch: 41 loss: 1.2441761493682861\n",
            "epoch: 42 loss: 1.2422363758087158\n",
            "epoch: 43 loss: 1.2403130531311035\n",
            "epoch: 44 loss: 1.2384063005447388\n",
            "epoch: 45 loss: 1.236515760421753\n",
            "epoch: 46 loss: 1.2346413135528564\n",
            "epoch: 47 loss: 1.2327829599380493\n",
            "epoch: 48 loss: 1.2309404611587524\n",
            "epoch: 49 loss: 1.2291138172149658\n",
            "epoch: 50 loss: 1.2273026704788208\n",
            "epoch: 51 loss: 1.2255070209503174\n",
            "epoch: 52 loss: 1.223726749420166\n",
            "epoch: 53 loss: 1.2219616174697876\n",
            "epoch: 54 loss: 1.2202116250991821\n",
            "epoch: 55 loss: 1.21847665309906\n",
            "epoch: 56 loss: 1.2167563438415527\n",
            "epoch: 57 loss: 1.2150509357452393\n",
            "epoch: 58 loss: 1.2133598327636719\n",
            "epoch: 59 loss: 1.2116833925247192\n",
            "epoch: 60 loss: 1.2100212574005127\n",
            "epoch: 61 loss: 1.2083733081817627\n",
            "epoch: 62 loss: 1.2067394256591797\n",
            "epoch: 63 loss: 1.2051194906234741\n",
            "epoch: 64 loss: 1.2035133838653564\n",
            "epoch: 65 loss: 1.201920986175537\n",
            "epoch: 66 loss: 1.2003421783447266\n",
            "epoch: 67 loss: 1.1987769603729248\n",
            "epoch: 68 loss: 1.1972250938415527\n",
            "epoch: 69 loss: 1.1956864595413208\n",
            "epoch: 70 loss: 1.1941609382629395\n",
            "epoch: 71 loss: 1.1926485300064087\n",
            "epoch: 72 loss: 1.1911488771438599\n",
            "epoch: 73 loss: 1.189662218093872\n",
            "epoch: 74 loss: 1.1881883144378662\n",
            "epoch: 75 loss: 1.1867268085479736\n",
            "epoch: 76 loss: 1.1852779388427734\n",
            "epoch: 77 loss: 1.1838414669036865\n",
            "epoch: 78 loss: 1.1824171543121338\n",
            "epoch: 79 loss: 1.1810050010681152\n",
            "epoch: 80 loss: 1.1796051263809204\n",
            "epoch: 81 loss: 1.1782169342041016\n",
            "epoch: 82 loss: 1.1768407821655273\n",
            "epoch: 83 loss: 1.175476312637329\n",
            "epoch: 84 loss: 1.1741236448287964\n",
            "epoch: 85 loss: 1.172782301902771\n",
            "epoch: 86 loss: 1.1714526414871216\n",
            "epoch: 87 loss: 1.17013418674469\n",
            "epoch: 88 loss: 1.1688270568847656\n",
            "epoch: 89 loss: 1.1675310134887695\n",
            "epoch: 90 loss: 1.1662462949752808\n",
            "epoch: 91 loss: 1.1649723052978516\n",
            "epoch: 92 loss: 1.163709282875061\n",
            "epoch: 93 loss: 1.1624571084976196\n",
            "epoch: 94 loss: 1.1612154245376587\n",
            "epoch: 95 loss: 1.1599845886230469\n",
            "epoch: 96 loss: 1.1587642431259155\n",
            "epoch: 97 loss: 1.157554268836975\n",
            "epoch: 98 loss: 1.1563546657562256\n",
            "epoch: 99 loss: 1.155165195465088\n"
          ],
          "name": "stdout"
        }
      ]
    },
    {
      "cell_type": "code",
      "metadata": {
        "id": "169VQBgCpNBk",
        "colab_type": "code",
        "colab": {
          "base_uri": "https://localhost:8080/",
          "height": 287
        },
        "outputId": "90905c58-597c-4c60-e15c-42dc41de79b8"
      },
      "source": [
        "plt.plot(range(epoch), losses)"
      ],
      "execution_count": 48,
      "outputs": [
        {
          "output_type": "execute_result",
          "data": {
            "text/plain": [
              "[<matplotlib.lines.Line2D at 0x7ff6fcfc4780>]"
            ]
          },
          "metadata": {
            "tags": []
          },
          "execution_count": 48
        },
        {
          "output_type": "display_data",
          "data": {
            "image/png": "[encoded data removed]",
            "text/plain": [
              "<Figure size 432x288 with 1 Axes>"
            ]
          },
          "metadata": {
            "tags": []
          }
        }
      ]
    },
    {
      "cell_type": "code",
      "metadata": {
        "id": "kaaq0RoLrVz3",
        "colab_type": "code",
        "colab": {}
      },
      "source": [
        ""
      ],
      "execution_count": 0,
      "outputs": []
    }
  ]
}